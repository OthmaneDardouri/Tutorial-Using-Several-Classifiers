{
 "cells": [
  {
   "attachments": {},
   "cell_type": "markdown",
   "metadata": {
    "slideshow": {
     "slide_type": "slide"
    }
   },
   "source": [
    "# Using several classifiers and tuning parameters - Parameters grid\n",
    "[From official `scikit-learn` documentation](http://scikit-learn.org/stable/auto_examples/model_selection/plot_grid_search_digits.html)\n",
    "\n",
    "Completed by Othmane Dardouri\n",
    "\n",
    "\n",
    "Example of usage of the ***model selection*** features of `scikit-learn` and comparison of several classification methods.\n",
    "1. import a sample dataset \n",
    "1. do the usual preliminary data explorations and separate the predicting attributes from the *target* `'Exited'`\n",
    "1. define the _models_ that will be tested and prepare the _hyperparameter ranges_ for the modules\n",
    "1. set the list of *score functions* to choose from\n",
    "1. split the dataset into two parts: train and test\n",
    "1. Loop on score functions and, for each score, loop on the model labels (see details below)\n",
    "    - optimize with GridSearchCV\n",
    "    - test\n",
    "    - store the results of best model\n",
    "1. for each scoring show the best models for each classifier, sorted by decreasing performance\n",
    "1. for each scoring show the confusion matrix of the prediction given by the best model"
   ]
  },
  {
   "cell_type": "code",
   "execution_count": 1,
   "metadata": {
    "slideshow": {
     "slide_type": "slide"
    }
   },
   "outputs": [
    {
     "name": "stdout",
     "output_type": "stream",
     "text": [
      "\n",
      "\n",
      "\n"
     ]
    }
   ],
   "source": [
    "\"\"\"\n",
    "\n",
    "\"\"\"\n",
    "import warnings\n",
    "import os\n",
    "import seaborn as sns\n",
    "warnings.filterwarnings('ignore') # uncomment this line to suppress warnings\n",
    "%matplotlib inline\n",
    "import pandas as pd\n",
    "import numpy as np\n",
    "import matplotlib.pyplot as plt\n",
    "from sklearn import datasets\n",
    "from sklearn.model_selection import train_test_split, GridSearchCV, StratifiedKFold\n",
    "from sklearn.metrics import classification_report, ConfusionMatrixDisplay\n",
    "from sklearn.svm import SVC\n",
    "from sklearn.linear_model import Perceptron\n",
    "from sklearn.neural_network import MLPClassifier\n",
    "from sklearn.tree import DecisionTreeClassifier\n",
    "from sklearn.naive_bayes import GaussianNB\n",
    "from sklearn.neighbors import KNeighborsClassifier\n",
    "from sklearn.ensemble import AdaBoostClassifier, RandomForestClassifier\n",
    "\n",
    "print(__doc__) # print information included in the triple quotes at the beginning"
   ]
  },
  {
   "attachments": {},
   "cell_type": "markdown",
   "metadata": {},
   "source": [
    "# 0. Initial settings\n",
    "Set the random state and set the seed with `np.random.seed()`\n",
    "\n",
    "Set the test set size and the number of cross valitadion splits"
   ]
  },
  {
   "cell_type": "code",
   "execution_count": 2,
   "metadata": {},
   "outputs": [],
   "source": [
    "ts = 0.3 # test size\n",
    "random_state = 42\n",
    "np.random.seed(random_state) # this sets the random sequence. Setting only this the repeatability is guaranteed\n",
    "                             # only if we re-execute the entire notebook\n",
    "cv = 3   # number of cross-validation splits"
   ]
  },
  {
   "attachments": {},
   "cell_type": "markdown",
   "metadata": {},
   "source": [
    "# 1. Import the dataset"
   ]
  },
  {
   "cell_type": "code",
   "execution_count": 3,
   "metadata": {},
   "outputs": [
    {
     "data": {
      "text/html": [
       "<div>\n",
       "<style scoped>\n",
       "    .dataframe tbody tr th:only-of-type {\n",
       "        vertical-align: middle;\n",
       "    }\n",
       "\n",
       "    .dataframe tbody tr th {\n",
       "        vertical-align: top;\n",
       "    }\n",
       "\n",
       "    .dataframe thead th {\n",
       "        text-align: right;\n",
       "    }\n",
       "</style>\n",
       "<table border=\"1\" class=\"dataframe\">\n",
       "  <thead>\n",
       "    <tr style=\"text-align: right;\">\n",
       "      <th></th>\n",
       "      <th>CreditScore</th>\n",
       "      <th>Gender</th>\n",
       "      <th>Age</th>\n",
       "      <th>Tenure</th>\n",
       "      <th>Balance</th>\n",
       "      <th>NumOfProducts</th>\n",
       "      <th>HasCrCard</th>\n",
       "      <th>IsActiveMember</th>\n",
       "      <th>EstimatedSalary</th>\n",
       "      <th>Exited</th>\n",
       "    </tr>\n",
       "  </thead>\n",
       "  <tbody>\n",
       "    <tr>\n",
       "      <th>0</th>\n",
       "      <td>619</td>\n",
       "      <td>0</td>\n",
       "      <td>42</td>\n",
       "      <td>2</td>\n",
       "      <td>0.00</td>\n",
       "      <td>1</td>\n",
       "      <td>1</td>\n",
       "      <td>1</td>\n",
       "      <td>101348.88</td>\n",
       "      <td>True</td>\n",
       "    </tr>\n",
       "    <tr>\n",
       "      <th>1</th>\n",
       "      <td>502</td>\n",
       "      <td>0</td>\n",
       "      <td>42</td>\n",
       "      <td>8</td>\n",
       "      <td>159660.80</td>\n",
       "      <td>3</td>\n",
       "      <td>1</td>\n",
       "      <td>0</td>\n",
       "      <td>113931.57</td>\n",
       "      <td>True</td>\n",
       "    </tr>\n",
       "    <tr>\n",
       "      <th>2</th>\n",
       "      <td>699</td>\n",
       "      <td>0</td>\n",
       "      <td>39</td>\n",
       "      <td>1</td>\n",
       "      <td>0.00</td>\n",
       "      <td>2</td>\n",
       "      <td>0</td>\n",
       "      <td>0</td>\n",
       "      <td>93826.63</td>\n",
       "      <td>False</td>\n",
       "    </tr>\n",
       "    <tr>\n",
       "      <th>3</th>\n",
       "      <td>822</td>\n",
       "      <td>1</td>\n",
       "      <td>50</td>\n",
       "      <td>7</td>\n",
       "      <td>0.00</td>\n",
       "      <td>2</td>\n",
       "      <td>1</td>\n",
       "      <td>1</td>\n",
       "      <td>10062.80</td>\n",
       "      <td>False</td>\n",
       "    </tr>\n",
       "    <tr>\n",
       "      <th>4</th>\n",
       "      <td>501</td>\n",
       "      <td>1</td>\n",
       "      <td>44</td>\n",
       "      <td>4</td>\n",
       "      <td>142051.07</td>\n",
       "      <td>2</td>\n",
       "      <td>0</td>\n",
       "      <td>1</td>\n",
       "      <td>74940.50</td>\n",
       "      <td>False</td>\n",
       "    </tr>\n",
       "  </tbody>\n",
       "</table>\n",
       "</div>"
      ],
      "text/plain": [
       "   CreditScore  Gender  Age  Tenure    Balance  NumOfProducts  HasCrCard  \\\n",
       "0          619       0   42       2       0.00              1          1   \n",
       "1          502       0   42       8  159660.80              3          1   \n",
       "2          699       0   39       1       0.00              2          0   \n",
       "3          822       1   50       7       0.00              2          1   \n",
       "4          501       1   44       4  142051.07              2          0   \n",
       "\n",
       "   IsActiveMember  EstimatedSalary  Exited  \n",
       "0               1        101348.88    True  \n",
       "1               0        113931.57    True  \n",
       "2               0         93826.63   False  \n",
       "3               1         10062.80   False  \n",
       "4               1         74940.50   False  "
      ]
     },
     "execution_count": 3,
     "metadata": {},
     "output_type": "execute_result"
    }
   ],
   "source": [
    "df = pd.read_csv(os.getcwd()+\"/churn-analysis.csv\")\n",
    "df.head()"
   ]
  },
  {
   "attachments": {},
   "cell_type": "markdown",
   "metadata": {},
   "source": [
    "# 2. Explore the data\n",
    "\n",
    "The output of exploration is not shown here"
   ]
  },
  {
   "cell_type": "code",
   "execution_count": 4,
   "metadata": {},
   "outputs": [
    {
     "data": {
      "text/plain": [
       "Exited\n",
       "False    4204\n",
       "True      810\n",
       "Name: count, dtype: int64"
      ]
     },
     "execution_count": 4,
     "metadata": {},
     "output_type": "execute_result"
    }
   ],
   "source": [
    "df[\"Exited\"].value_counts()"
   ]
  },
  {
   "cell_type": "code",
   "execution_count": 5,
   "metadata": {},
   "outputs": [],
   "source": [
    "# display here some exploration output"
   ]
  },
  {
   "cell_type": "code",
   "execution_count": 6,
   "metadata": {},
   "outputs": [
    {
     "data": {
      "text/plain": [
       "<Figure size 1500x1500 with 0 Axes>"
      ]
     },
     "metadata": {},
     "output_type": "display_data"
    },
    {
     "data": {
      "image/png": "[encoded data removed]",
      "text/plain": [
       "<Figure size 304.861x250 with 2 Axes>"
      ]
     },
     "metadata": {},
     "output_type": "display_data"
    }
   ],
   "source": [
    "plt.figure(figsize=(15,15))\n",
    "sns.pairplot(df[[\"Age\",\"Exited\"]],hue=\"Exited\");"
   ]
  },
  {
   "attachments": {},
   "cell_type": "markdown",
   "metadata": {},
   "source": [
    "# 3. Define the _models_ \n",
    "Prepare the _hyperparameter ranges_ for the modules\n",
    "\n",
    "Put everything in a dictionary, for ease of use\n",
    "\n",
    "Please read carefully these data structures and understand them\n",
    "\n",
    "It is also useful to read the API documentation of each classifier, in order to understand the hyperparameters"
   ]
  },
  {
   "cell_type": "code",
   "execution_count": 7,
   "metadata": {
    "slideshow": {
     "slide_type": "fragment"
    }
   },
   "outputs": [],
   "source": [
    "model_lbls = ['dt' # decision tree\n",
    "             ,'nb' # gaussian naive bayes\n",
    "             ,'lp'   # linear perceptron\n",
    "         #    ,'svc'  # support vector # deactivate if running time becomes too long\n",
    "             ,'knn'  # k nearest neighbours\n",
    "             ,'adb'  # adaboost\n",
    "             ,'rf'   # random forest\n",
    "            ]\n",
    "\n",
    "models = {\n",
    "    'dt': {'name': 'Decision Tree       ',\n",
    "           'estimator': DecisionTreeClassifier(random_state=random_state), \n",
    "           'param': [{'max_depth': [*range(1,20)],'class_weight':[None,'balanced']}],\n",
    "          },\n",
    "    'nb': {'name': 'Gaussian Naive Bayes',\n",
    "           'estimator': GaussianNB(),\n",
    "           'param': [{'var_smoothing': [10**exp for exp in range(-3,-13,-1)]}]\n",
    "          },\n",
    "    'lp': {'name': 'Linear Perceptron   ',\n",
    "           'estimator': Perceptron(random_state=random_state),\n",
    "           'param': [{'early_stopping': [True,False],'class_weight':[None,'balanced']}],\n",
    "          },\n",
    "    'svc':{'name': 'Support Vector      ',\n",
    "           'estimator': SVC(random_state=random_state), \n",
    "           'param': [{'kernel': ['rbf'], \n",
    "                    'gamma': [1e-3, 1e-4],\n",
    "                    'C': [1, 10, 100],\n",
    "                    },\n",
    "                    {'kernel': ['linear'],\n",
    "                     'C': [1, 10, 100],                     \n",
    "             },\n",
    "                   ]\n",
    "          },\n",
    "    'knn':{'name': 'K Nearest Neighbor ',\n",
    "           'estimator': KNeighborsClassifier(),\n",
    "           'param': [{'n_neighbors': list(range(1,7))}]\n",
    "       },\n",
    "    'adb':{'name': 'AdaBoost           ',\n",
    "           'estimator': AdaBoostClassifier(random_state=random_state),\n",
    "           'param': [{'n_estimators':[10,20,30,40,50]\n",
    "                     ,'learning_rate':[0.2,0.5,0.75,1,1.25,1.5]}]\n",
    "          },\n",
    "    'rf': {'name': 'Random forest       ',\n",
    "           'estimator': RandomForestClassifier(random_state=random_state),\n",
    "           'param': [{'max_depth': [*range(4,10)]\n",
    "                     ,'n_estimators':[*range(10,60,10)]}]\n",
    "          }\n",
    "\n",
    "}"
   ]
  },
  {
   "attachments": {},
   "cell_type": "markdown",
   "metadata": {},
   "source": [
    "# 4. Set the list of *score functions* to choose from"
   ]
  },
  {
   "cell_type": "code",
   "execution_count": 44,
   "metadata": {},
   "outputs": [],
   "source": [
    "scorings = ['accuracy','precision_macro','recall_macro','f1_macro']"
   ]
  },
  {
   "attachments": {},
   "cell_type": "markdown",
   "metadata": {},
   "source": [
    "# 5. Split the dataset into the train and test parts\n",
    "    - the *train* part will be used for training and cross-validation (i.e. for *development*)\n",
    "    - the *test* part will be used for test (i.e. for *evaluation*)\n",
    "    - the fraction of test data will be _ts_ (a value of your choice between 0.2 and 0.5)"
   ]
  },
  {
   "cell_type": "code",
   "execution_count": 9,
   "metadata": {},
   "outputs": [
    {
     "name": "stdout",
     "output_type": "stream",
     "text": [
      "Training set that will be used for cv evaluation of the model has : 3509 samples\n"
     ]
    }
   ],
   "source": [
    "X = df.drop(\"Exited\",axis=1)\n",
    "y = df[\"Exited\"]\n",
    "X_train, X_test, y_train, y_test = train_test_split(X,y,random_state=random_state,test_size=ts)\n",
    "print(f\"Training set that will be used for cv evaluation of the model has : {y_train.shape[0]} samples\")"
   ]
  },
  {
   "attachments": {},
   "cell_type": "markdown",
   "metadata": {},
   "source": [
    "# 6. Loop on scores and, for each score, loop on the model labels\n",
    "\n",
    "The function `GridSearchCV` iterates a cross validation experiment to train and test a model with different combinations of paramater values\n",
    "- for each parameter we have set before a list of values to test, `ParametersGrid` will be implicitly called to generate all the combinations\n",
    "- we choose a *score function* which will be used for the optimization\n",
    "    - e.g. `accuracy_score`, `precision_score`, `recall_score`, `f1_score`, see this [page](https://scikit-learn.org/stable/modules/model_evaluation.html) for reference\n",
    "- the output is a dataframe containing \n",
    "    - the set of parameters maximising the score \n",
    "    - the score used for optimisation and all the test scores\n",
    "\n",
    "### Steps\n",
    "\n",
    "- prepare an empty list `clfs` to store all the fitted models\n",
    "- prepare an empty DataFrame which will collect the results of the fittings with each combination of parameters\n",
    "    - dataframe columns are `'scoring','model','best_params','accuracy','precision_macro','recall_macro','f1_macro'`\n",
    "- loop"
   ]
  },
  {
   "cell_type": "code",
   "execution_count": 45,
   "metadata": {},
   "outputs": [],
   "source": [
    "clfs = []\n",
    "results = pd.DataFrame(columns=['scoring','model','best_params'#,'fit+score_time'\n",
    "                                ,'accuracy','precision_macro','recall_macro','f1_macro'])\n",
    "y_preds=[]"
   ]
  },
  {
   "attachments": {},
   "cell_type": "markdown",
   "metadata": {},
   "source": [
    "### Parameters to collect\n",
    "\n",
    "`classification_report` produces a dictionary containing some classification performance measures, given the *ground truth* and the *predictions* (use the parameter `output_dict=True`)\n",
    "\n",
    "The measures are (among others):\n",
    "- `accuracy`\n",
    "- `macro avg` a dictionary containing:\n",
    "    - `precision`\n",
    "    - `recall`\n",
    "    - `f1-score`\n",
    "- ...\n"
   ]
  },
  {
   "attachments": {},
   "cell_type": "markdown",
   "metadata": {},
   "source": [
    "### Loop\n",
    "\n",
    "- repeat for all the chosen scorings\n",
    "    - repeat for all the chosen classification models\n",
    "        - store in `clf` the initialisation of `GridSearchCV` with the appropriate\n",
    "            - classification model\n",
    "            - parameters ranges\n",
    "            - scoring\n",
    "            - cross validation method `cv` (the same for all)\n",
    "        - fit `clf` with the *train* part of `X` and `y`\n",
    "        - store in `y_pred` the prediction for the *test* part of `X`\n",
    "        - append `clf` to clfs`\n",
    "        - append `y_pred` to `y_preds`\n",
    "        - store in variable `cr` the `classification_report` produced with the test part of `y` and `y_pred`\n",
    "        - store in the last row of `results` a list containing:\n",
    "            - the name of the model\n",
    "            - the `.best_params_` of `clf`\n",
    "            - a selection of the contents of cr\n",
    "                - 'accuracy', \n",
    "                - 'macro avg''precision'\n",
    "                - 'macro avg''recall'\n",
    "                - 'macro avg''f1-score'\n",
    "\n",
    "Hints: \n",
    "- cr is a multi-level dictionary, second level can be reached \n",
    "with <br> `cr['first level label']['second level label']`\n",
    "- to append a list as the last row of a dataframe you can use <br>\n",
    "`df.loc[len(df)]=[]`"
   ]
  },
  {
   "cell_type": "code",
   "execution_count": 46,
   "metadata": {
    "scrolled": true,
    "slideshow": {
     "slide_type": "fragment"
    }
   },
   "outputs": [
    {
     "name": "stdout",
     "output_type": "stream",
     "text": [
      "Finished accuracy\n",
      "Finished precision_macro\n",
      "Finished recall_macro\n",
      "Finished f1_macro\n"
     ]
    }
   ],
   "source": [
    "for score in scorings:\n",
    "    for model in model_lbls:\n",
    "        clf = GridSearchCV(models[model][\"estimator\"],models[model][\"param\"],scoring=score,cv=cv)\n",
    "        clf.fit(X_train,y_train)\n",
    "        y_pred = clf.predict(X_test)\n",
    "        y_preds.append(y_pred)\n",
    "        clfs.append(clf)\n",
    "        cr = classification_report(y_test,y_pred,target_names=df[\"Exited\"].unique(),output_dict=True)\n",
    "        best_params = clf.best_params_\n",
    "        results.loc[len(results)]=[score,models[model][\"name\"],best_params,cr[\"accuracy\"]\n",
    "                             ,cr[\"macro avg\"][\"precision\"],cr[\"macro avg\"][\"recall\"],cr[\"macro avg\"][\"f1-score\"]]\n",
    "    print(f\"Finished {score}\")\n",
    "        \n",
    "        "
   ]
  },
  {
   "attachments": {},
   "cell_type": "markdown",
   "metadata": {},
   "source": [
    "# 7. Display\n",
    "\n",
    "For each scoring show the ranking of the models, and the confusion matrix given by the best model\n",
    "\n",
    "For each scoring:\n",
    "- set a `scoring_filter`\n",
    "- filter the results of that scoring\n",
    "- display the filtered dataframe with the `display()` function (it allows several displays of dataframes )\n",
    "\n"
   ]
  },
  {
   "cell_type": "code",
   "execution_count": 47,
   "metadata": {},
   "outputs": [
    {
     "name": "stdout",
     "output_type": "stream",
     "text": [
      "Result for scoring: accuracy\n"
     ]
    },
    {
     "data": {
      "text/html": [
       "<div>\n",
       "<style scoped>\n",
       "    .dataframe tbody tr th:only-of-type {\n",
       "        vertical-align: middle;\n",
       "    }\n",
       "\n",
       "    .dataframe tbody tr th {\n",
       "        vertical-align: top;\n",
       "    }\n",
       "\n",
       "    .dataframe thead th {\n",
       "        text-align: right;\n",
       "    }\n",
       "</style>\n",
       "<table border=\"1\" class=\"dataframe\">\n",
       "  <thead>\n",
       "    <tr style=\"text-align: right;\">\n",
       "      <th></th>\n",
       "      <th>scoring</th>\n",
       "      <th>model</th>\n",
       "      <th>best_params</th>\n",
       "      <th>accuracy</th>\n",
       "      <th>precision_macro</th>\n",
       "      <th>recall_macro</th>\n",
       "      <th>f1_macro</th>\n",
       "    </tr>\n",
       "  </thead>\n",
       "  <tbody>\n",
       "    <tr>\n",
       "      <th>0</th>\n",
       "      <td>accuracy</td>\n",
       "      <td>Decision Tree</td>\n",
       "      <td>{'class_weight': None, 'max_depth': 4}</td>\n",
       "      <td>0.871761</td>\n",
       "      <td>0.799722</td>\n",
       "      <td>0.700355</td>\n",
       "      <td>0.733511</td>\n",
       "    </tr>\n",
       "    <tr>\n",
       "      <th>1</th>\n",
       "      <td>accuracy</td>\n",
       "      <td>Gaussian Naive Bayes</td>\n",
       "      <td>{'var_smoothing': 1e-12}</td>\n",
       "      <td>0.849169</td>\n",
       "      <td>0.815833</td>\n",
       "      <td>0.583241</td>\n",
       "      <td>0.602023</td>\n",
       "    </tr>\n",
       "    <tr>\n",
       "      <th>2</th>\n",
       "      <td>accuracy</td>\n",
       "      <td>Linear Perceptron</td>\n",
       "      <td>{'class_weight': None, 'early_stopping': True}</td>\n",
       "      <td>0.827243</td>\n",
       "      <td>0.413621</td>\n",
       "      <td>0.500000</td>\n",
       "      <td>0.452727</td>\n",
       "    </tr>\n",
       "    <tr>\n",
       "      <th>3</th>\n",
       "      <td>accuracy</td>\n",
       "      <td>K Nearest Neighbor</td>\n",
       "      <td>{'n_neighbors': 6}</td>\n",
       "      <td>0.820598</td>\n",
       "      <td>0.525032</td>\n",
       "      <td>0.502070</td>\n",
       "      <td>0.464974</td>\n",
       "    </tr>\n",
       "    <tr>\n",
       "      <th>4</th>\n",
       "      <td>accuracy</td>\n",
       "      <td>AdaBoost</td>\n",
       "      <td>{'learning_rate': 0.5, 'n_estimators': 30}</td>\n",
       "      <td>0.879734</td>\n",
       "      <td>0.853044</td>\n",
       "      <td>0.685395</td>\n",
       "      <td>0.729258</td>\n",
       "    </tr>\n",
       "    <tr>\n",
       "      <th>5</th>\n",
       "      <td>accuracy</td>\n",
       "      <td>Random forest</td>\n",
       "      <td>{'max_depth': 7, 'n_estimators': 30}</td>\n",
       "      <td>0.879070</td>\n",
       "      <td>0.877186</td>\n",
       "      <td>0.669779</td>\n",
       "      <td>0.715608</td>\n",
       "    </tr>\n",
       "  </tbody>\n",
       "</table>\n",
       "</div>"
      ],
      "text/plain": [
       "    scoring                 model  \\\n",
       "0  accuracy  Decision Tree          \n",
       "1  accuracy  Gaussian Naive Bayes   \n",
       "2  accuracy  Linear Perceptron      \n",
       "3  accuracy   K Nearest Neighbor    \n",
       "4  accuracy   AdaBoost              \n",
       "5  accuracy  Random forest          \n",
       "\n",
       "                                      best_params  accuracy  precision_macro  \\\n",
       "0          {'class_weight': None, 'max_depth': 4}  0.871761         0.799722   \n",
       "1                        {'var_smoothing': 1e-12}  0.849169         0.815833   \n",
       "2  {'class_weight': None, 'early_stopping': True}  0.827243         0.413621   \n",
       "3                              {'n_neighbors': 6}  0.820598         0.525032   \n",
       "4      {'learning_rate': 0.5, 'n_estimators': 30}  0.879734         0.853044   \n",
       "5            {'max_depth': 7, 'n_estimators': 30}  0.879070         0.877186   \n",
       "\n",
       "   recall_macro  f1_macro  \n",
       "0      0.700355  0.733511  \n",
       "1      0.583241  0.602023  \n",
       "2      0.500000  0.452727  \n",
       "3      0.502070  0.464974  \n",
       "4      0.685395  0.729258  \n",
       "5      0.669779  0.715608  "
      ]
     },
     "metadata": {},
     "output_type": "display_data"
    },
    {
     "name": "stdout",
     "output_type": "stream",
     "text": [
      "Result for scoring: precision_macro\n"
     ]
    },
    {
     "data": {
      "text/html": [
       "<div>\n",
       "<style scoped>\n",
       "    .dataframe tbody tr th:only-of-type {\n",
       "        vertical-align: middle;\n",
       "    }\n",
       "\n",
       "    .dataframe tbody tr th {\n",
       "        vertical-align: top;\n",
       "    }\n",
       "\n",
       "    .dataframe thead th {\n",
       "        text-align: right;\n",
       "    }\n",
       "</style>\n",
       "<table border=\"1\" class=\"dataframe\">\n",
       "  <thead>\n",
       "    <tr style=\"text-align: right;\">\n",
       "      <th></th>\n",
       "      <th>scoring</th>\n",
       "      <th>model</th>\n",
       "      <th>best_params</th>\n",
       "      <th>accuracy</th>\n",
       "      <th>precision_macro</th>\n",
       "      <th>recall_macro</th>\n",
       "      <th>f1_macro</th>\n",
       "    </tr>\n",
       "  </thead>\n",
       "  <tbody>\n",
       "    <tr>\n",
       "      <th>6</th>\n",
       "      <td>precision_macro</td>\n",
       "      <td>Decision Tree</td>\n",
       "      <td>{'class_weight': None, 'max_depth': 4}</td>\n",
       "      <td>0.871761</td>\n",
       "      <td>0.799722</td>\n",
       "      <td>0.700355</td>\n",
       "      <td>0.733511</td>\n",
       "    </tr>\n",
       "    <tr>\n",
       "      <th>7</th>\n",
       "      <td>precision_macro</td>\n",
       "      <td>Gaussian Naive Bayes</td>\n",
       "      <td>{'var_smoothing': 1e-12}</td>\n",
       "      <td>0.849169</td>\n",
       "      <td>0.815833</td>\n",
       "      <td>0.583241</td>\n",
       "      <td>0.602023</td>\n",
       "    </tr>\n",
       "    <tr>\n",
       "      <th>8</th>\n",
       "      <td>precision_macro</td>\n",
       "      <td>Linear Perceptron</td>\n",
       "      <td>{'class_weight': 'balanced', 'early_stopping':...</td>\n",
       "      <td>0.174751</td>\n",
       "      <td>0.586551</td>\n",
       "      <td>0.501205</td>\n",
       "      <td>0.149963</td>\n",
       "    </tr>\n",
       "    <tr>\n",
       "      <th>9</th>\n",
       "      <td>precision_macro</td>\n",
       "      <td>K Nearest Neighbor</td>\n",
       "      <td>{'n_neighbors': 6}</td>\n",
       "      <td>0.820598</td>\n",
       "      <td>0.525032</td>\n",
       "      <td>0.502070</td>\n",
       "      <td>0.464974</td>\n",
       "    </tr>\n",
       "    <tr>\n",
       "      <th>10</th>\n",
       "      <td>precision_macro</td>\n",
       "      <td>AdaBoost</td>\n",
       "      <td>{'learning_rate': 0.2, 'n_estimators': 20}</td>\n",
       "      <td>0.841860</td>\n",
       "      <td>0.881755</td>\n",
       "      <td>0.545351</td>\n",
       "      <td>0.540230</td>\n",
       "    </tr>\n",
       "    <tr>\n",
       "      <th>11</th>\n",
       "      <td>precision_macro</td>\n",
       "      <td>Random forest</td>\n",
       "      <td>{'max_depth': 4, 'n_estimators': 20}</td>\n",
       "      <td>0.871096</td>\n",
       "      <td>0.895666</td>\n",
       "      <td>0.636052</td>\n",
       "      <td>0.676715</td>\n",
       "    </tr>\n",
       "  </tbody>\n",
       "</table>\n",
       "</div>"
      ],
      "text/plain": [
       "            scoring                 model  \\\n",
       "6   precision_macro  Decision Tree          \n",
       "7   precision_macro  Gaussian Naive Bayes   \n",
       "8   precision_macro  Linear Perceptron      \n",
       "9   precision_macro   K Nearest Neighbor    \n",
       "10  precision_macro   AdaBoost              \n",
       "11  precision_macro  Random forest          \n",
       "\n",
       "                                          best_params  accuracy  \\\n",
       "6              {'class_weight': None, 'max_depth': 4}  0.871761   \n",
       "7                            {'var_smoothing': 1e-12}  0.849169   \n",
       "8   {'class_weight': 'balanced', 'early_stopping':...  0.174751   \n",
       "9                                  {'n_neighbors': 6}  0.820598   \n",
       "10         {'learning_rate': 0.2, 'n_estimators': 20}  0.841860   \n",
       "11               {'max_depth': 4, 'n_estimators': 20}  0.871096   \n",
       "\n",
       "    precision_macro  recall_macro  f1_macro  \n",
       "6          0.799722      0.700355  0.733511  \n",
       "7          0.815833      0.583241  0.602023  \n",
       "8          0.586551      0.501205  0.149963  \n",
       "9          0.525032      0.502070  0.464974  \n",
       "10         0.881755      0.545351  0.540230  \n",
       "11         0.895666      0.636052  0.676715  "
      ]
     },
     "metadata": {},
     "output_type": "display_data"
    },
    {
     "name": "stdout",
     "output_type": "stream",
     "text": [
      "Result for scoring: recall_macro\n"
     ]
    },
    {
     "data": {
      "text/html": [
       "<div>\n",
       "<style scoped>\n",
       "    .dataframe tbody tr th:only-of-type {\n",
       "        vertical-align: middle;\n",
       "    }\n",
       "\n",
       "    .dataframe tbody tr th {\n",
       "        vertical-align: top;\n",
       "    }\n",
       "\n",
       "    .dataframe thead th {\n",
       "        text-align: right;\n",
       "    }\n",
       "</style>\n",
       "<table border=\"1\" class=\"dataframe\">\n",
       "  <thead>\n",
       "    <tr style=\"text-align: right;\">\n",
       "      <th></th>\n",
       "      <th>scoring</th>\n",
       "      <th>model</th>\n",
       "      <th>best_params</th>\n",
       "      <th>accuracy</th>\n",
       "      <th>precision_macro</th>\n",
       "      <th>recall_macro</th>\n",
       "      <th>f1_macro</th>\n",
       "    </tr>\n",
       "  </thead>\n",
       "  <tbody>\n",
       "    <tr>\n",
       "      <th>12</th>\n",
       "      <td>recall_macro</td>\n",
       "      <td>Decision Tree</td>\n",
       "      <td>{'class_weight': 'balanced', 'max_depth': 4}</td>\n",
       "      <td>0.724252</td>\n",
       "      <td>0.649313</td>\n",
       "      <td>0.743567</td>\n",
       "      <td>0.651403</td>\n",
       "    </tr>\n",
       "    <tr>\n",
       "      <th>13</th>\n",
       "      <td>recall_macro</td>\n",
       "      <td>Gaussian Naive Bayes</td>\n",
       "      <td>{'var_smoothing': 1e-12}</td>\n",
       "      <td>0.849169</td>\n",
       "      <td>0.815833</td>\n",
       "      <td>0.583241</td>\n",
       "      <td>0.602023</td>\n",
       "    </tr>\n",
       "    <tr>\n",
       "      <th>14</th>\n",
       "      <td>recall_macro</td>\n",
       "      <td>Linear Perceptron</td>\n",
       "      <td>{'class_weight': 'balanced', 'early_stopping':...</td>\n",
       "      <td>0.260465</td>\n",
       "      <td>0.503507</td>\n",
       "      <td>0.502804</td>\n",
       "      <td>0.259208</td>\n",
       "    </tr>\n",
       "    <tr>\n",
       "      <th>15</th>\n",
       "      <td>recall_macro</td>\n",
       "      <td>K Nearest Neighbor</td>\n",
       "      <td>{'n_neighbors': 1}</td>\n",
       "      <td>0.728239</td>\n",
       "      <td>0.523914</td>\n",
       "      <td>0.523842</td>\n",
       "      <td>0.523877</td>\n",
       "    </tr>\n",
       "    <tr>\n",
       "      <th>16</th>\n",
       "      <td>recall_macro</td>\n",
       "      <td>AdaBoost</td>\n",
       "      <td>{'learning_rate': 1.25, 'n_estimators': 10}</td>\n",
       "      <td>0.874419</td>\n",
       "      <td>0.811279</td>\n",
       "      <td>0.698919</td>\n",
       "      <td>0.734798</td>\n",
       "    </tr>\n",
       "    <tr>\n",
       "      <th>17</th>\n",
       "      <td>recall_macro</td>\n",
       "      <td>Random forest</td>\n",
       "      <td>{'max_depth': 9, 'n_estimators': 20}</td>\n",
       "      <td>0.880399</td>\n",
       "      <td>0.854085</td>\n",
       "      <td>0.687319</td>\n",
       "      <td>0.731352</td>\n",
       "    </tr>\n",
       "  </tbody>\n",
       "</table>\n",
       "</div>"
      ],
      "text/plain": [
       "         scoring                 model  \\\n",
       "12  recall_macro  Decision Tree          \n",
       "13  recall_macro  Gaussian Naive Bayes   \n",
       "14  recall_macro  Linear Perceptron      \n",
       "15  recall_macro   K Nearest Neighbor    \n",
       "16  recall_macro   AdaBoost              \n",
       "17  recall_macro  Random forest          \n",
       "\n",
       "                                          best_params  accuracy  \\\n",
       "12       {'class_weight': 'balanced', 'max_depth': 4}  0.724252   \n",
       "13                           {'var_smoothing': 1e-12}  0.849169   \n",
       "14  {'class_weight': 'balanced', 'early_stopping':...  0.260465   \n",
       "15                                 {'n_neighbors': 1}  0.728239   \n",
       "16        {'learning_rate': 1.25, 'n_estimators': 10}  0.874419   \n",
       "17               {'max_depth': 9, 'n_estimators': 20}  0.880399   \n",
       "\n",
       "    precision_macro  recall_macro  f1_macro  \n",
       "12         0.649313      0.743567  0.651403  \n",
       "13         0.815833      0.583241  0.602023  \n",
       "14         0.503507      0.502804  0.259208  \n",
       "15         0.523914      0.523842  0.523877  \n",
       "16         0.811279      0.698919  0.734798  \n",
       "17         0.854085      0.687319  0.731352  "
      ]
     },
     "metadata": {},
     "output_type": "display_data"
    },
    {
     "name": "stdout",
     "output_type": "stream",
     "text": [
      "Result for scoring: f1_macro\n"
     ]
    },
    {
     "data": {
      "text/html": [
       "<div>\n",
       "<style scoped>\n",
       "    .dataframe tbody tr th:only-of-type {\n",
       "        vertical-align: middle;\n",
       "    }\n",
       "\n",
       "    .dataframe tbody tr th {\n",
       "        vertical-align: top;\n",
       "    }\n",
       "\n",
       "    .dataframe thead th {\n",
       "        text-align: right;\n",
       "    }\n",
       "</style>\n",
       "<table border=\"1\" class=\"dataframe\">\n",
       "  <thead>\n",
       "    <tr style=\"text-align: right;\">\n",
       "      <th></th>\n",
       "      <th>scoring</th>\n",
       "      <th>model</th>\n",
       "      <th>best_params</th>\n",
       "      <th>accuracy</th>\n",
       "      <th>precision_macro</th>\n",
       "      <th>recall_macro</th>\n",
       "      <th>f1_macro</th>\n",
       "    </tr>\n",
       "  </thead>\n",
       "  <tbody>\n",
       "    <tr>\n",
       "      <th>18</th>\n",
       "      <td>f1_macro</td>\n",
       "      <td>Decision Tree</td>\n",
       "      <td>{'class_weight': None, 'max_depth': 4}</td>\n",
       "      <td>0.871761</td>\n",
       "      <td>0.799722</td>\n",
       "      <td>0.700355</td>\n",
       "      <td>0.733511</td>\n",
       "    </tr>\n",
       "    <tr>\n",
       "      <th>19</th>\n",
       "      <td>f1_macro</td>\n",
       "      <td>Gaussian Naive Bayes</td>\n",
       "      <td>{'var_smoothing': 1e-12}</td>\n",
       "      <td>0.849169</td>\n",
       "      <td>0.815833</td>\n",
       "      <td>0.583241</td>\n",
       "      <td>0.602023</td>\n",
       "    </tr>\n",
       "    <tr>\n",
       "      <th>20</th>\n",
       "      <td>f1_macro</td>\n",
       "      <td>Linear Perceptron</td>\n",
       "      <td>{'class_weight': 'balanced', 'early_stopping':...</td>\n",
       "      <td>0.260465</td>\n",
       "      <td>0.503507</td>\n",
       "      <td>0.502804</td>\n",
       "      <td>0.259208</td>\n",
       "    </tr>\n",
       "    <tr>\n",
       "      <th>21</th>\n",
       "      <td>f1_macro</td>\n",
       "      <td>K Nearest Neighbor</td>\n",
       "      <td>{'n_neighbors': 1}</td>\n",
       "      <td>0.728239</td>\n",
       "      <td>0.523914</td>\n",
       "      <td>0.523842</td>\n",
       "      <td>0.523877</td>\n",
       "    </tr>\n",
       "    <tr>\n",
       "      <th>22</th>\n",
       "      <td>f1_macro</td>\n",
       "      <td>AdaBoost</td>\n",
       "      <td>{'learning_rate': 1.25, 'n_estimators': 10}</td>\n",
       "      <td>0.874419</td>\n",
       "      <td>0.811279</td>\n",
       "      <td>0.698919</td>\n",
       "      <td>0.734798</td>\n",
       "    </tr>\n",
       "    <tr>\n",
       "      <th>23</th>\n",
       "      <td>f1_macro</td>\n",
       "      <td>Random forest</td>\n",
       "      <td>{'max_depth': 9, 'n_estimators': 20}</td>\n",
       "      <td>0.880399</td>\n",
       "      <td>0.854085</td>\n",
       "      <td>0.687319</td>\n",
       "      <td>0.731352</td>\n",
       "    </tr>\n",
       "  </tbody>\n",
       "</table>\n",
       "</div>"
      ],
      "text/plain": [
       "     scoring                 model  \\\n",
       "18  f1_macro  Decision Tree          \n",
       "19  f1_macro  Gaussian Naive Bayes   \n",
       "20  f1_macro  Linear Perceptron      \n",
       "21  f1_macro   K Nearest Neighbor    \n",
       "22  f1_macro   AdaBoost              \n",
       "23  f1_macro  Random forest          \n",
       "\n",
       "                                          best_params  accuracy  \\\n",
       "18             {'class_weight': None, 'max_depth': 4}  0.871761   \n",
       "19                           {'var_smoothing': 1e-12}  0.849169   \n",
       "20  {'class_weight': 'balanced', 'early_stopping':...  0.260465   \n",
       "21                                 {'n_neighbors': 1}  0.728239   \n",
       "22        {'learning_rate': 1.25, 'n_estimators': 10}  0.874419   \n",
       "23               {'max_depth': 9, 'n_estimators': 20}  0.880399   \n",
       "\n",
       "    precision_macro  recall_macro  f1_macro  \n",
       "18         0.799722      0.700355  0.733511  \n",
       "19         0.815833      0.583241  0.602023  \n",
       "20         0.503507      0.502804  0.259208  \n",
       "21         0.523914      0.523842  0.523877  \n",
       "22         0.811279      0.698919  0.734798  \n",
       "23         0.854085      0.687319  0.731352  "
      ]
     },
     "metadata": {},
     "output_type": "display_data"
    }
   ],
   "source": [
    "for score in scorings:\n",
    "    print(f\"Result for scoring: {score}\")\n",
    "    display(results[results[\"scoring\"]==score])\n",
    "    "
   ]
  },
  {
   "cell_type": "code",
   "execution_count": null,
   "metadata": {},
   "outputs": [],
   "source": []
  },
  {
   "attachments": {},
   "cell_type": "markdown",
   "metadata": {},
   "source": [
    "# 8. Confusion matrices\n",
    "\n",
    "Use the `ConfusionMatrixDisplay` with the best model of each scoring to compare the predictions\n",
    "\n",
    "Repeat for every scoring:\n",
    "- filter the results for the current scoring\n",
    "- find the row with the best value of the scoring \n",
    "- display the confusion matrix with an appropriate title"
   ]
  },
  {
   "cell_type": "code",
   "execution_count": 48,
   "metadata": {},
   "outputs": [
    {
     "data": {
      "image/png": "[encoded data removed]",
      "text/plain": [
       "<Figure size 640x480 with 2 Axes>"
      ]
     },
     "metadata": {},
     "output_type": "display_data"
    },
    {
     "data": {
      "image/png": "[encoded data removed]",
      "text/plain": [
       "<Figure size 640x480 with 2 Axes>"
      ]
     },
     "metadata": {},
     "output_type": "display_data"
    },
    {
     "data": {
      "image/png": "[encoded data removed]",
      "text/plain": [
       "<Figure size 640x480 with 2 Axes>"
      ]
     },
     "metadata": {},
     "output_type": "display_data"
    },
    {
     "data": {
      "image/png": "[encoded data removed]",
      "text/plain": [
       "<Figure size 640x480 with 2 Axes>"
      ]
     },
     "metadata": {},
     "output_type": "display_data"
    }
   ],
   "source": [
    "for score in scorings:\n",
    "    row_estimator = results.loc[results[\"scoring\"]==score,score].idxmax(0)\n",
    "    disp = ConfusionMatrixDisplay.from_estimator(X=X_test,y=y_test,estimator=clfs[row_estimator])\n",
    "    disp.ax_.set_title(f\"Best model for {score}: {results.iloc[row_estimator][\"model\"]}\")"
   ]
  },
  {
   "cell_type": "code",
   "execution_count": null,
   "metadata": {},
   "outputs": [],
   "source": []
  }
 ],
 "metadata": {
  "celltoolbar": "Slideshow",
  "kernelspec": {
   "display_name": "Python 3 (ipykernel)",
   "language": "python",
   "name": "python3"
  },
  "language_info": {
   "codemirror_mode": {
    "name": "ipython",
    "version": 3
   },
   "file_extension": ".py",
   "mimetype": "text/x-python",
   "name": "python",
   "nbconvert_exporter": "python",
   "pygments_lexer": "ipython3",
   "version": "3.12.3"
  },
  "vscode": {
   "interpreter": {
    "hash": "856490cdf840ba517e6730ee923aec993854a2ac7b35c746552be6a833f388f3"
   }
  }
 },
 "nbformat": 4,
 "nbformat_minor": 4
}
